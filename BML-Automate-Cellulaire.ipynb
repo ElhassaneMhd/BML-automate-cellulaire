{
 "cells": [
  {
   "cell_type": "code",
   "execution_count": 967,
   "metadata": {},
   "outputs": [],
   "source": [
    "import numpy as np\n",
    "import random\n",
    "N=5\n",
    "carsNumber=10\n",
    "blueCar=1\n",
    "redCar=2\n",
    "initMatrice = np.zeros((N, N)) \n",
    "matrice = np.zeros((N, N)) \n",
    "sortedCarsNumber=0\n",
    "totalIterations=0\n",
    "iterations=[]"
   ]
  },
  {
   "cell_type": "code",
   "execution_count": 968,
   "metadata": {},
   "outputs": [
    {
     "name": "stdout",
     "output_type": "stream",
     "text": [
      "{(4, 0), (2, 1), (0, 0), (2, 0), (3, 0), (2, 3), (0, 2), (1, 0), (3, 2), (1, 3)}\n"
     ]
    }
   ],
   "source": [
    "availablePositions = set()\n",
    "def randomPositions():\n",
    "    for i in range(carsNumber):\n",
    "        x = random.randint(0, N - 1)\n",
    "        y = random.randint(0, N - 1)\n",
    "        if (x, y) not in availablePositions:\n",
    "            availablePositions.add((x, y))\n",
    "                 \n",
    "randomPositions()\n",
    "print(availablePositions)\n"
   ]
  },
  {
   "cell_type": "code",
   "execution_count": 969,
   "metadata": {},
   "outputs": [
    {
     "name": "stdout",
     "output_type": "stream",
     "text": [
      "[[1. 0. 2. 0. 0.]\n",
      " [2. 0. 0. 2. 0.]\n",
      " [1. 1. 0. 2. 0.]\n",
      " [1. 0. 2. 0. 0.]\n",
      " [1. 0. 0. 0. 0.]]\n"
     ]
    }
   ],
   "source": [
    "def addCars():\n",
    "    blueCarsNumber, redCarsNumber = int(carsNumber/2), int(carsNumber/2)\n",
    "    for j in availablePositions:\n",
    "        if blueCarsNumber>0:\n",
    "            blueCarsNumber-=1\n",
    "            initMatrice[j[0]][j[1]] = int(blueCar)\n",
    "        elif redCarsNumber>0 and initMatrice[j[0]][j[1]]==0:\n",
    "            redCarsNumber-=1\n",
    "            initMatrice[j[0]][j[1]] = int(redCar)\n",
    "\n",
    "addCars()\n",
    "print(initMatrice)"
   ]
  },
  {
   "cell_type": "code",
   "execution_count": null,
   "metadata": {},
   "outputs": [
    {
     "ename": "UnboundLocalError",
     "evalue": "local variable 'sortedCarsNumber' referenced before assignment",
     "output_type": "error",
     "traceback": [
      "\u001b[1;31m---------------------------------------------------------------------------\u001b[0m",
      "\u001b[1;31mUnboundLocalError\u001b[0m                         Traceback (most recent call last)",
      "Cell \u001b[1;32mIn[971], line 49\u001b[0m\n\u001b[0;32m     41\u001b[0m                 matrice[i][j]\u001b[38;5;241m=\u001b[39m\u001b[38;5;241m0\u001b[39m\n\u001b[0;32m     43\u001b[0m     iterations\u001b[38;5;241m.\u001b[39mappend({\n\u001b[0;32m     44\u001b[0m         \u001b[38;5;124m'\u001b[39m\u001b[38;5;124mblocke\u001b[39m\u001b[38;5;124m'\u001b[39m:blockedCars,\n\u001b[0;32m     45\u001b[0m         \u001b[38;5;124m'\u001b[39m\u001b[38;5;124msorted\u001b[39m\u001b[38;5;124m'\u001b[39m:sortedCars,\n\u001b[0;32m     46\u001b[0m     })\n\u001b[1;32m---> 49\u001b[0m \u001b[43mmoveCars\u001b[49m\u001b[43m(\u001b[49m\u001b[43m)\u001b[49m\n\u001b[0;32m     50\u001b[0m initMatrice \u001b[38;5;241m=\u001b[39m matrice\n\u001b[0;32m     51\u001b[0m \u001b[38;5;28mprint\u001b[39m(matrice)\n",
      "Cell \u001b[1;32mIn[971], line 30\u001b[0m, in \u001b[0;36mmoveCars\u001b[1;34m()\u001b[0m\n\u001b[0;32m     28\u001b[0m     matrice[i][j]\u001b[38;5;241m=\u001b[39m\u001b[38;5;241m0\u001b[39m \n\u001b[0;32m     29\u001b[0m     sortedCars[\u001b[38;5;124m'\u001b[39m\u001b[38;5;124mblue\u001b[39m\u001b[38;5;124m'\u001b[39m]\u001b[38;5;241m.\u001b[39mappend((i, j))\n\u001b[1;32m---> 30\u001b[0m     sortedCarsNumber\u001b[38;5;241m=\u001b[39m \u001b[43msortedCarsNumber\u001b[49m\u001b[38;5;241m+\u001b[39m\u001b[38;5;241m1\u001b[39m\n\u001b[0;32m     31\u001b[0m \u001b[38;5;28;01melif\u001b[39;00m initMatrice[i\u001b[38;5;241m+\u001b[39m\u001b[38;5;241m1\u001b[39m][j]\u001b[38;5;241m==\u001b[39m\u001b[38;5;241m0\u001b[39m \u001b[38;5;129;01mand\u001b[39;00m matrice[i\u001b[38;5;241m+\u001b[39m\u001b[38;5;241m1\u001b[39m][j]\u001b[38;5;241m==\u001b[39m\u001b[38;5;241m0\u001b[39m:\n\u001b[0;32m     32\u001b[0m     matrice[i\u001b[38;5;241m+\u001b[39m\u001b[38;5;241m1\u001b[39m][j]\u001b[38;5;241m=\u001b[39m\u001b[38;5;241m1\u001b[39m\n",
      "\u001b[1;31mUnboundLocalError\u001b[0m: local variable 'sortedCarsNumber' referenced before assignment"
     ]
    }
   ],
   "source": [
    "def moveCars():\n",
    "    blockedCars = {\n",
    "        'blue':[],\n",
    "        'red':[]\n",
    "    }\n",
    "    sortedCars = {\n",
    "        'blue':[],\n",
    "        'red':[]\n",
    "    }\n",
    "    for i in range(N): \n",
    "        for j in range(N):\n",
    "            if initMatrice[i][j]==2 :\n",
    "                if j+1>=N :\n",
    "                    matrice[i][j]=0\n",
    "                    sortedCars['red'].append((i, j))\n",
    "                    sortedCarsNumber+=1\n",
    "                elif initMatrice[i][j+1]==0 and matrice[i][j+1]==0:\n",
    "                    matrice[i][j+1]=2\n",
    "                    matrice[i][j]=-1 \n",
    "                else :\n",
    "                    blockedCars['red'].append((i, j))\n",
    "                    matrice[i][j]=2\n",
    "\n",
    "    for i in range(N):        \n",
    "        for j in range(N):\n",
    "            if initMatrice[i][j]==1:\n",
    "                if i+1>=N:\n",
    "                    matrice[i][j]=0 \n",
    "                    sortedCars['blue'].append((i, j))\n",
    "                    sortedCarsNumber= sortedCarsNumber+1\n",
    "                elif initMatrice[i+1][j]==0 and matrice[i+1][j]==0:\n",
    "                    matrice[i+1][j]=1\n",
    "                    matrice[i][j]=0\n",
    "                else:\n",
    "                    matrice[i][j]=1\n",
    "                    blockedCars['blue'].append((i, j))\n",
    "\n",
    "    for i in range(N):        \n",
    "        for j in range(N):\n",
    "            if matrice[i][j]==-1:\n",
    "                matrice[i][j]=0\n",
    "    \n",
    "    iterations.append({\n",
    "        'blocke':blockedCars,\n",
    "        'sorted':sortedCars,\n",
    "    })\n",
    "  \n",
    "\n",
    "moveCars()\n",
    "initMatrice = matrice\n",
    "print(matrice)\n",
    "matrice = np.zeros((N, N))\n",
    "    \n",
    "def showStats():\n",
    "    print(\"Total iterations: \", totalIterations)\n",
    "    for i in iterations:\n",
    "        count = iterations.index(i)\n",
    "        print('-------------------------------------------------')\n",
    "        print(f\"iteration {count+1} , blocked : {i.get('blocke')}\")\n",
    "        print(f\"iteration {count+1} , sorted : {i.get('sorted')}\")\n",
    "        print('-------------------------------------------------')\n",
    "            \n",
    "showStats()\n"
   ]
  }
 ],
 "metadata": {
  "kernelspec": {
   "display_name": "Python 3",
   "language": "python",
   "name": "python3"
  },
  "language_info": {
   "codemirror_mode": {
    "name": "ipython",
    "version": 3
   },
   "file_extension": ".py",
   "mimetype": "text/x-python",
   "name": "python",
   "nbconvert_exporter": "python",
   "pygments_lexer": "ipython3",
   "version": "3.10.9"
  }
 },
 "nbformat": 4,
 "nbformat_minor": 2
}
